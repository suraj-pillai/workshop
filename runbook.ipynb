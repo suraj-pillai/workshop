{
  "cells": [
    {
      "cell_type": "markdown",
      "metadata": {
        "id": "view-in-github",
        "colab_type": "text"
      },
      "source": [
        "<a href=\"https://colab.research.google.com/github/suraj-pillai/workshop/blob/main/runbook.ipynb\" target=\"_parent\"><img src=\"https://colab.research.google.com/assets/colab-badge.svg\" alt=\"Open In Colab\"/></a>"
      ]
    },
    {
      "cell_type": "markdown",
      "source": [
        "# Prerequisites\n",
        "\n",
        "*   Access to RDS\n",
        "*   Access to MongoDB Atlas\n",
        "*   [Create a Confluent Cloud account](https://www.confluent.io/confluent-cloud/tryfree/)\n",
        "*   [Install mongosh](https://www.mongodb.com/docs/mongodb-shell/install/) \n",
        "*   Ability to execute *curl* command. If curl is not available, please install it\n",
        "*   [Install Confluent CLI](https://docs.confluent.io/confluent-cli/current/install.html#install-confluent-cli)\n",
        "\n",
        "<br>\n",
        "\n",
        "\n",
        "---\n",
        "\n",
        "\n",
        "\n",
        "\n",
        "# Architecture\n",
        "\n",
        "<br>\n",
        "\n",
        "\n",
        "---\n",
        "\n",
        "\n",
        "\n",
        "# Setup Clusters\n",
        "\n",
        "\n",
        "\n",
        "*   Sign-in using - https://confluent.cloud/login\n",
        "*   Create a new environment\n",
        "![](https://drive.google.com/uc?export=view&id=1UJBQQ2yeOcBQPF94kaayfbc8-kMTJCVj)\n",
        "![](https://drive.google.com/uc?export=view&id=1bXSO9Gk-gD7BLaKl7VUjeY4J40yYxSBC)\n",
        "*   Enable Schema Registry - •Begin Configuration*  *Essentials* package\n",
        "![](https://drive.google.com/uc?export=view&id=1kgKysbRwcZBlc2yuYyYWK2SUSnNtH9KI)\n",
        "![](https://drive.google.com/uc?export=view&id=1biRtgFYTfIC3CSRgwg50M2BmGzdYKgIU)\n"
      ],
      "metadata": {
        "id": "EXo6XiAjLIx7"
      }
    }
  ],
  "metadata": {
    "language_info": {
      "name": "python"
    },
    "orig_nbformat": 4,
    "colab": {
      "provenance": [],
      "include_colab_link": true
    }
  },
  "nbformat": 4,
  "nbformat_minor": 0
}