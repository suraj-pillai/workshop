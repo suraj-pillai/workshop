{
  "cells": [
    {
      "cell_type": "markdown",
      "source": [
        "# Prerequisites\n",
        "\n",
        "*   Access to RDS\n",
        "*   Access to MongoDB Atlas\n",
        "*   [Create a Confluent Cloud account](https://www.confluent.io/confluent-cloud/tryfree/)\n",
        "*   [Install mongosh](https://www.mongodb.com/docs/mongodb-shell/install/) \n",
        "*   Ability to execute *curl* command. If curl is not available, please install it\n",
        "*   [Install Confluent CLI](https://docs.confluent.io/confluent-cli/current/install.html#install-confluent-cli)\n",
        "\n",
        "<br>\n",
        "\n",
        "\n",
        "---\n",
        "\n",
        "\n",
        "\n",
        "---\n",
        "\n",
        "\n",
        "\n",
        "# Architecture\n",
        "\n",
        "<br>\n",
        "\n",
        "\n",
        "---\n",
        "\n",
        "\n",
        "\n",
        "---\n",
        "\n",
        "# Setup Clusters\n",
        "*   Sign-in using - https://confluent.cloud/login"
      ],
      "metadata": {
        "id": "EXo6XiAjLIx7"
      }
    }
  ],
  "metadata": {
    "language_info": {
      "name": "python"
    },
    "orig_nbformat": 4,
    "colab": {
      "provenance": []
    }
  },
  "nbformat": 4,
  "nbformat_minor": 0
}