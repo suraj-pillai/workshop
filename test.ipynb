{
  "cells": [
    {
      "cell_type": "markdown",
      "metadata": {
        "id": "hZ5enUuGdSU-"
      },
      "source": []
    },
    {
      "cell_type": "markdown",
      "metadata": {
        "id": "1K-0oaxcdSU_"
      },
      "source": [
        "## welcome 1\n",
        "### welcome 2"
      ]
    },
    {
      "cell_type": "markdown",
      "metadata": {
        "id": "9sZxdP7ldSVB"
      },
      "source": [
        "get the image as below\n",
        "\n",
        "![](https://drive.google.com/uc?export=view&id=1cGc89020Ukos38Yc9X8IQ3F8O-3v6Jnl)"
      ]
    },
    {
      "cell_type": "markdown",
      "metadata": {
        "id": "4MSCCJEwdSVB"
      },
      "source": [
        "# welcome again"
      ]
    },
    {
      "cell_type": "code",
      "execution_count": 3,
      "metadata": {
        "vscode": {
          "languageId": "plaintext"
        },
        "id": "WVc2y6yvdSVB",
        "outputId": "aaa77524-e29f-40ce-ab63-4325fe35985f",
        "colab": {
          "base_uri": "https://localhost:8080/"
        }
      },
      "outputs": [
        {
          "output_type": "stream",
          "name": "stdout",
          "text": [
            "confluent/LICENSE\n",
            "confluent/legal/licenses/github.com/PuerkitoBio/purell/LICENSE\n",
            "confluent/legal/licenses/github.com/PuerkitoBio/urlesc/LICENSE\n",
            "confluent/legal/licenses/github.com/antihax/optional/LICENSE\n",
            "confluent/legal/licenses/github.com/aws/aws-sdk-go/LICENSE.txt\n",
            "confluent/legal/licenses/github.com/aws/aws-sdk-go/NOTICE.txt\n",
            "confluent/legal/licenses/github.com/aws/aws-sdk-go/internal/sync/singleflight/LICENSE\n",
            "confluent/legal/licenses/github.com/brianstrauch/cobra-shell/LICENSE\n",
            "confluent/legal/licenses/github.com/c-bata/go-prompt/LICENSE\n",
            "confluent/legal/licenses/github.com/client9/gospell/LICENSE\n",
            "confluent/legal/licenses/github.com/client9/gospell/plaintext/LICENSE\n",
            "confluent/legal/licenses/github.com/codyaray/retag/LICENSE\n",
            "confluent/legal/licenses/github.com/confluentinc/bincover/LICENSE\n",
            "confluent/legal/licenses/github.com/confluentinc/ccloud-sdk-go-v2/apikeys/v2/LICENSE\n",
            "confluent/legal/licenses/github.com/confluentinc/ccloud-sdk-go-v2/cdx/v1/LICENSE\n",
            "confluent/legal/licenses/github.com/confluentinc/ccloud-sdk-go-v2/cli/v1/LICENSE\n",
            "confluent/legal/licenses/github.com/confluentinc/ccloud-sdk-go-v2/cmk/v2/LICENSE\n",
            "confluent/legal/licenses/github.com/confluentinc/ccloud-sdk-go-v2/connect/v1/LICENSE\n",
            "confluent/legal/licenses/github.com/confluentinc/ccloud-sdk-go-v2/iam/v2/LICENSE\n",
            "confluent/legal/licenses/github.com/confluentinc/ccloud-sdk-go-v2/identity-provider/v2/LICENSE\n",
            "confluent/legal/licenses/github.com/confluentinc/ccloud-sdk-go-v2/kafka-quotas/v1/LICENSE\n",
            "confluent/legal/licenses/github.com/confluentinc/ccloud-sdk-go-v2/kafkarest/v3/LICENSE\n",
            "confluent/legal/licenses/github.com/confluentinc/ccloud-sdk-go-v2/metrics/v2/LICENSE\n",
            "confluent/legal/licenses/github.com/confluentinc/ccloud-sdk-go-v2/org/v2/LICENSE\n",
            "confluent/legal/licenses/github.com/confluentinc/ccloud-sdk-go-v2/service-quota/v1/LICENSE\n",
            "confluent/legal/licenses/github.com/confluentinc/ccloud-sdk-go-v2/stream-designer/v1/LICENSE\n",
            "confluent/legal/licenses/github.com/confluentinc/confluent-kafka-go/kafka/LICENSE\n",
            "confluent/legal/licenses/github.com/confluentinc/confluent-kafka-go/kafka/librdkafka_vendor/LICENSES.txt\n",
            "confluent/legal/licenses/github.com/confluentinc/go-netrc/netrc/LICENSE\n",
            "confluent/legal/licenses/github.com/confluentinc/go-ps1/LICENSE\n",
            "confluent/legal/licenses/github.com/confluentinc/kafka-rest-sdk-go/kafkarestv3/LICENSE\n",
            "confluent/legal/licenses/github.com/confluentinc/properties/LICENSE\n",
            "confluent/legal/licenses/github.com/davecgh/go-spew/spew/LICENSE\n",
            "confluent/legal/licenses/github.com/dghubble/sling/LICENSE\n",
            "confluent/legal/licenses/github.com/emicklei/go-restful/LICENSE\n",
            "confluent/legal/licenses/github.com/envoyproxy/protoc-gen-validate/validate/LICENSE\n",
            "confluent/legal/licenses/github.com/envoyproxy/protoc-gen-validate/validate/NOTICE\n",
            "confluent/legal/licenses/github.com/evanphx/json-patch/LICENSE\n",
            "confluent/legal/licenses/github.com/fatih/color/LICENSE.md\n",
            "confluent/legal/licenses/github.com/ghodss/yaml/LICENSE\n",
            "confluent/legal/licenses/github.com/go-openapi/jsonpointer/LICENSE\n",
            "confluent/legal/licenses/github.com/go-openapi/jsonreference/LICENSE\n",
            "confluent/legal/licenses/github.com/go-openapi/spec/LICENSE\n",
            "confluent/legal/licenses/github.com/go-openapi/swag/LICENSE\n",
            "confluent/legal/licenses/github.com/go-yaml/yaml/LICENSE\n",
            "confluent/legal/licenses/github.com/go-yaml/yaml/NOTICE\n",
            "confluent/legal/licenses/github.com/gobuffalo/flect/LICENSE\n",
            "confluent/legal/licenses/github.com/gogo/protobuf/LICENSE\n",
            "confluent/legal/licenses/github.com/golang/glog/LICENSE\n",
            "confluent/legal/licenses/github.com/golang/protobuf/LICENSE\n",
            "confluent/legal/licenses/github.com/golang/snappy/LICENSE\n",
            "confluent/legal/licenses/github.com/google/go-querystring/query/LICENSE\n",
            "confluent/legal/licenses/github.com/google/gofuzz/LICENSE\n",
            "confluent/legal/licenses/github.com/google/shlex/COPYING\n",
            "confluent/legal/licenses/github.com/google/uuid/LICENSE\n",
            "confluent/legal/licenses/github.com/gorilla/mux/LICENSE\n",
            "confluent/legal/licenses/github.com/grpc-ecosystem/grpc-gateway/LICENSE.txt\n",
            "confluent/legal/licenses/github.com/hashicorp/errwrap/LICENSE\n",
            "confluent/legal/licenses/github.com/hashicorp/errwrap/README.md\n",
            "confluent/legal/licenses/github.com/hashicorp/errwrap/errwrap.go\n",
            "confluent/legal/licenses/github.com/hashicorp/errwrap/errwrap_test.go\n",
            "confluent/legal/licenses/github.com/hashicorp/errwrap/go.mod\n",
            "confluent/legal/licenses/github.com/hashicorp/go-cleanhttp/LICENSE\n",
            "confluent/legal/licenses/github.com/hashicorp/go-cleanhttp/README.md\n",
            "confluent/legal/licenses/github.com/hashicorp/go-cleanhttp/cleanhttp.go\n",
            "confluent/legal/licenses/github.com/hashicorp/go-cleanhttp/doc.go\n",
            "confluent/legal/licenses/github.com/hashicorp/go-cleanhttp/go.mod\n",
            "confluent/legal/licenses/github.com/hashicorp/go-cleanhttp/handlers.go\n",
            "confluent/legal/licenses/github.com/hashicorp/go-cleanhttp/handlers_test.go\n",
            "confluent/legal/licenses/github.com/hashicorp/go-hclog/LICENSE\n",
            "confluent/legal/licenses/github.com/hashicorp/go-multierror/.circleci/config.yml\n",
            "confluent/legal/licenses/github.com/hashicorp/go-multierror/LICENSE\n",
            "confluent/legal/licenses/github.com/hashicorp/go-multierror/Makefile\n",
            "confluent/legal/licenses/github.com/hashicorp/go-multierror/README.md\n",
            "confluent/legal/licenses/github.com/hashicorp/go-multierror/append.go\n",
            "confluent/legal/licenses/github.com/hashicorp/go-multierror/append_test.go\n",
            "confluent/legal/licenses/github.com/hashicorp/go-multierror/flatten.go\n",
            "confluent/legal/licenses/github.com/hashicorp/go-multierror/flatten_test.go\n",
            "confluent/legal/licenses/github.com/hashicorp/go-multierror/format.go\n",
            "confluent/legal/licenses/github.com/hashicorp/go-multierror/format_test.go\n",
            "confluent/legal/licenses/github.com/hashicorp/go-multierror/go.mod\n",
            "confluent/legal/licenses/github.com/hashicorp/go-multierror/go.sum\n",
            "confluent/legal/licenses/github.com/hashicorp/go-multierror/group.go\n",
            "confluent/legal/licenses/github.com/hashicorp/go-multierror/group_test.go\n",
            "confluent/legal/licenses/github.com/hashicorp/go-multierror/multierror.go\n",
            "confluent/legal/licenses/github.com/hashicorp/go-multierror/multierror_test.go\n",
            "confluent/legal/licenses/github.com/hashicorp/go-multierror/prefix.go\n",
            "confluent/legal/licenses/github.com/hashicorp/go-multierror/prefix_test.go\n",
            "confluent/legal/licenses/github.com/hashicorp/go-multierror/sort.go\n",
            "confluent/legal/licenses/github.com/hashicorp/go-multierror/sort_test.go\n",
            "confluent/legal/licenses/github.com/hashicorp/go-retryablehttp/.circleci/config.yml\n",
            "confluent/legal/licenses/github.com/hashicorp/go-retryablehttp/.gitignore\n",
            "confluent/legal/licenses/github.com/hashicorp/go-retryablehttp/LICENSE\n",
            "confluent/legal/licenses/github.com/hashicorp/go-retryablehttp/Makefile\n",
            "confluent/legal/licenses/github.com/hashicorp/go-retryablehttp/README.md\n",
            "confluent/legal/licenses/github.com/hashicorp/go-retryablehttp/client.go\n",
            "confluent/legal/licenses/github.com/hashicorp/go-retryablehttp/client_test.go\n",
            "confluent/legal/licenses/github.com/hashicorp/go-retryablehttp/go.mod\n",
            "confluent/legal/licenses/github.com/hashicorp/go-retryablehttp/go.sum\n",
            "confluent/legal/licenses/github.com/hashicorp/go-retryablehttp/roundtripper.go\n",
            "confluent/legal/licenses/github.com/hashicorp/go-retryablehttp/roundtripper_test.go\n",
            "confluent/legal/licenses/github.com/hashicorp/go-version/.circleci/config.yml\n",
            "confluent/legal/licenses/github.com/hashicorp/go-version/CHANGELOG.md\n",
            "confluent/legal/licenses/github.com/hashicorp/go-version/LICENSE\n",
            "confluent/legal/licenses/github.com/hashicorp/go-version/README.md\n",
            "confluent/legal/licenses/github.com/hashicorp/go-version/constraint.go\n",
            "confluent/legal/licenses/github.com/hashicorp/go-version/constraint_test.go\n",
            "confluent/legal/licenses/github.com/hashicorp/go-version/go.mod\n",
            "confluent/legal/licenses/github.com/hashicorp/go-version/version.go\n",
            "confluent/legal/licenses/github.com/hashicorp/go-version/version_collection.go\n",
            "confluent/legal/licenses/github.com/hashicorp/go-version/version_collection_test.go\n",
            "confluent/legal/licenses/github.com/hashicorp/go-version/version_test.go\n",
            "confluent/legal/licenses/github.com/havoc-io/gopass/LICENSE.txt\n",
            "confluent/legal/licenses/github.com/iancoleman/strcase/LICENSE\n",
            "confluent/legal/licenses/github.com/imdario/mergo/LICENSE\n",
            "confluent/legal/licenses/github.com/jackc/chunkreader/v2/LICENSE\n",
            "confluent/legal/licenses/github.com/jackc/pgconn/LICENSE\n",
            "confluent/legal/licenses/github.com/jackc/pgerrcode/LICENSE\n",
            "confluent/legal/licenses/github.com/jackc/pgio/LICENSE\n",
            "confluent/legal/licenses/github.com/jackc/pgpassfile/LICENSE\n",
            "confluent/legal/licenses/github.com/jackc/pgproto3/v2/LICENSE\n",
            "confluent/legal/licenses/github.com/jackc/pgservicefile/LICENSE\n",
            "confluent/legal/licenses/github.com/jhump/protoreflect/LICENSE\n",
            "confluent/legal/licenses/github.com/jmespath/go-jmespath/LICENSE\n",
            "confluent/legal/licenses/github.com/jonboulle/clockwork/LICENSE\n",
            "confluent/legal/licenses/github.com/josharian/intern/license.md\n",
            "confluent/legal/licenses/github.com/lib/pq/LICENSE.md\n",
            "confluent/legal/licenses/github.com/linkedin/goavro/v2/LICENSE\n",
            "confluent/legal/licenses/github.com/mailru/easyjson/LICENSE\n",
            "confluent/legal/licenses/github.com/mattn/go-colorable/LICENSE\n",
            "confluent/legal/licenses/github.com/mattn/go-isatty/LICENSE\n",
            "confluent/legal/licenses/github.com/mattn/go-runewidth/LICENSE\n",
            "confluent/legal/licenses/github.com/mitchellh/go-homedir/LICENSE\n",
            "confluent/legal/licenses/github.com/olekukonko/tablewriter/LICENSE.md\n",
            "confluent/legal/licenses/github.com/pkg/browser/LICENSE\n",
            "confluent/legal/licenses/github.com/pkg/errors/LICENSE\n",
            "confluent/legal/licenses/github.com/pkg/term/termios/LICENSE\n",
            "confluent/legal/licenses/github.com/pmezard/go-difflib/difflib/LICENSE\n",
            "confluent/legal/licenses/github.com/rivo/uniseg/LICENSE.txt\n",
            "confluent/legal/licenses/github.com/sirupsen/logrus/LICENSE\n",
            "confluent/legal/licenses/github.com/spf13/cobra/LICENSE.txt\n",
            "confluent/legal/licenses/github.com/spf13/pflag/LICENSE\n",
            "confluent/legal/licenses/github.com/stretchr/testify/LICENSE\n",
            "confluent/legal/licenses/github.com/stripe/stripe-go/LICENSE\n",
            "confluent/legal/licenses/github.com/tidwall/gjson/LICENSE\n",
            "confluent/legal/licenses/github.com/tidwall/match/LICENSE\n",
            "confluent/legal/licenses/github.com/tidwall/pretty/LICENSE\n",
            "confluent/legal/licenses/github.com/tidwall/sjson/LICENSE\n",
            "confluent/legal/licenses/github.com/ugorji/go/codec/LICENSE\n",
            "confluent/legal/licenses/github.com/xeipuuv/gojsonpointer/LICENSE-APACHE-2.0.txt\n",
            "confluent/legal/licenses/github.com/xeipuuv/gojsonreference/LICENSE-APACHE-2.0.txt\n",
            "confluent/legal/licenses/github.com/xeipuuv/gojsonschema/LICENSE-APACHE-2.0.txt\n",
            "confluent/legal/licenses/golang.org/x/crypto/LICENSE\n",
            "confluent/legal/licenses/golang.org/x/net/LICENSE\n",
            "confluent/legal/licenses/golang.org/x/oauth2/LICENSE\n",
            "confluent/legal/licenses/golang.org/x/sys/unix/LICENSE\n",
            "confluent/legal/licenses/golang.org/x/term/LICENSE\n",
            "confluent/legal/licenses/golang.org/x/text/LICENSE\n",
            "confluent/legal/licenses/google.golang.org/genproto/LICENSE\n",
            "confluent/legal/licenses/google.golang.org/grpc/LICENSE\n",
            "confluent/legal/licenses/google.golang.org/grpc/NOTICE.txt\n",
            "confluent/legal/licenses/google.golang.org/protobuf/LICENSE\n",
            "confluent/legal/licenses/gopkg.in/inf.v0/LICENSE\n",
            "confluent/legal/licenses/gopkg.in/launchdarkly/go-jsonstream.v1/LICENSE.txt\n",
            "confluent/legal/licenses/gopkg.in/launchdarkly/go-sdk-common.v2/LICENSE.txt\n",
            "confluent/legal/licenses/gopkg.in/square/go-jose.v2/LICENSE\n",
            "confluent/legal/licenses/gopkg.in/square/go-jose.v2/json/LICENSE\n",
            "confluent/legal/licenses/gopkg.in/yaml.v2/LICENSE\n",
            "confluent/legal/licenses/gopkg.in/yaml.v2/NOTICE\n",
            "confluent/legal/licenses/gopkg.in/yaml.v3/LICENSE\n",
            "confluent/legal/licenses/gopkg.in/yaml.v3/NOTICE\n",
            "confluent/legal/licenses/k8s.io/api/LICENSE\n",
            "confluent/legal/licenses/k8s.io/apiextensions-apiserver/pkg/apis/apiextensions/LICENSE\n",
            "confluent/legal/licenses/k8s.io/apimachinery/LICENSE\n",
            "confluent/legal/licenses/k8s.io/kube-openapi/pkg/common/LICENSE\n",
            "confluent/confluent\n",
            "confluent\n",
            "confluent_latest_linux_amd64.tar.gz\n",
            "sample_data\n"
          ]
        },
        {
          "output_type": "stream",
          "name": "stderr",
          "text": [
            "  % Total    % Received % Xferd  Average Speed   Time    Time     Time  Current\n",
            "                                 Dload  Upload   Total   Spent    Left  Speed\n",
            "\r  0     0    0     0    0     0      0      0 --:--:-- --:--:-- --:--:--     0\r  1 17.6M    1  216k    0     0   279k      0  0:01:04 --:--:--  0:01:04  278k\r  6 17.6M    6 1098k    0     0   619k      0  0:00:29  0:00:01  0:00:28  619k\r 16 17.6M   16 3060k    0     0  1104k      0  0:00:16  0:00:02  0:00:14 1104k\r 40 17.6M   40 7309k    0     0  1939k      0  0:00:09  0:00:03  0:00:06 1939k\r 91 17.6M   91 16.1M    0     0  3473k      0  0:00:05  0:00:04  0:00:01 3473k\r100 17.6M  100 17.6M    0     0  3740k      0  0:00:04  0:00:04 --:--:-- 4401k\n"
          ]
        }
      ],
      "source": [
        "# some comments\n",
        "%%bash\n",
        "curl -O https://s3-us-west-2.amazonaws.com/confluent.cloud/confluent-cli/archives/latest/confluent_latest_linux_amd64.tar.gz\n",
        "tar -xzvf confluent_latest_linux_amd64.tar.gz\n",
        "ls\n"
      ]
    },
    {
      "cell_type": "code",
      "execution_count": 2,
      "metadata": {
        "vscode": {
          "languageId": "plaintext"
        },
        "id": "Ls9HCjK7dSVC",
        "outputId": "6744d7d7-371e-42c4-c518-aa52b8e299d0",
        "colab": {
          "base_uri": "https://localhost:8080/",
          "height": 371
        }
      },
      "outputs": [
        {
          "output_type": "stream",
          "name": "stderr",
          "text": [
            "bash: line 1: confluent: command not found\n"
          ]
        },
        {
          "output_type": "error",
          "ename": "CalledProcessError",
          "evalue": "ignored",
          "traceback": [
            "\u001b[0;31m---------------------------------------------------------------------------\u001b[0m",
            "\u001b[0;31mCalledProcessError\u001b[0m                        Traceback (most recent call last)",
            "\u001b[0;32m<ipython-input-2-79fe13cd87c7>\u001b[0m in \u001b[0;36m<module>\u001b[0;34m\u001b[0m\n\u001b[0;32m----> 1\u001b[0;31m \u001b[0mget_ipython\u001b[0m\u001b[0;34m(\u001b[0m\u001b[0;34m)\u001b[0m\u001b[0;34m.\u001b[0m\u001b[0mrun_cell_magic\u001b[0m\u001b[0;34m(\u001b[0m\u001b[0;34m'bash'\u001b[0m\u001b[0;34m,\u001b[0m \u001b[0;34m''\u001b[0m\u001b[0;34m,\u001b[0m \u001b[0;34m'confluent --help\\n'\u001b[0m\u001b[0;34m)\u001b[0m\u001b[0;34m\u001b[0m\u001b[0;34m\u001b[0m\u001b[0m\n\u001b[0m",
            "\u001b[0;32m/usr/local/lib/python3.7/dist-packages/IPython/core/interactiveshell.py\u001b[0m in \u001b[0;36mrun_cell_magic\u001b[0;34m(self, magic_name, line, cell)\u001b[0m\n\u001b[1;32m   2357\u001b[0m             \u001b[0;32mwith\u001b[0m \u001b[0mself\u001b[0m\u001b[0;34m.\u001b[0m\u001b[0mbuiltin_trap\u001b[0m\u001b[0;34m:\u001b[0m\u001b[0;34m\u001b[0m\u001b[0;34m\u001b[0m\u001b[0m\n\u001b[1;32m   2358\u001b[0m                 \u001b[0margs\u001b[0m \u001b[0;34m=\u001b[0m \u001b[0;34m(\u001b[0m\u001b[0mmagic_arg_s\u001b[0m\u001b[0;34m,\u001b[0m \u001b[0mcell\u001b[0m\u001b[0;34m)\u001b[0m\u001b[0;34m\u001b[0m\u001b[0;34m\u001b[0m\u001b[0m\n\u001b[0;32m-> 2359\u001b[0;31m                 \u001b[0mresult\u001b[0m \u001b[0;34m=\u001b[0m \u001b[0mfn\u001b[0m\u001b[0;34m(\u001b[0m\u001b[0;34m*\u001b[0m\u001b[0margs\u001b[0m\u001b[0;34m,\u001b[0m \u001b[0;34m**\u001b[0m\u001b[0mkwargs\u001b[0m\u001b[0;34m)\u001b[0m\u001b[0;34m\u001b[0m\u001b[0;34m\u001b[0m\u001b[0m\n\u001b[0m\u001b[1;32m   2360\u001b[0m             \u001b[0;32mreturn\u001b[0m \u001b[0mresult\u001b[0m\u001b[0;34m\u001b[0m\u001b[0;34m\u001b[0m\u001b[0m\n\u001b[1;32m   2361\u001b[0m \u001b[0;34m\u001b[0m\u001b[0m\n",
            "\u001b[0;32m/usr/local/lib/python3.7/dist-packages/IPython/core/magics/script.py\u001b[0m in \u001b[0;36mnamed_script_magic\u001b[0;34m(line, cell)\u001b[0m\n\u001b[1;32m    140\u001b[0m             \u001b[0;32melse\u001b[0m\u001b[0;34m:\u001b[0m\u001b[0;34m\u001b[0m\u001b[0;34m\u001b[0m\u001b[0m\n\u001b[1;32m    141\u001b[0m                 \u001b[0mline\u001b[0m \u001b[0;34m=\u001b[0m \u001b[0mscript\u001b[0m\u001b[0;34m\u001b[0m\u001b[0;34m\u001b[0m\u001b[0m\n\u001b[0;32m--> 142\u001b[0;31m             \u001b[0;32mreturn\u001b[0m \u001b[0mself\u001b[0m\u001b[0;34m.\u001b[0m\u001b[0mshebang\u001b[0m\u001b[0;34m(\u001b[0m\u001b[0mline\u001b[0m\u001b[0;34m,\u001b[0m \u001b[0mcell\u001b[0m\u001b[0;34m)\u001b[0m\u001b[0;34m\u001b[0m\u001b[0;34m\u001b[0m\u001b[0m\n\u001b[0m\u001b[1;32m    143\u001b[0m \u001b[0;34m\u001b[0m\u001b[0m\n\u001b[1;32m    144\u001b[0m         \u001b[0;31m# write a basic docstring:\u001b[0m\u001b[0;34m\u001b[0m\u001b[0;34m\u001b[0m\u001b[0;34m\u001b[0m\u001b[0m\n",
            "\u001b[0;32m<decorator-gen-103>\u001b[0m in \u001b[0;36mshebang\u001b[0;34m(self, line, cell)\u001b[0m\n",
            "\u001b[0;32m/usr/local/lib/python3.7/dist-packages/IPython/core/magic.py\u001b[0m in \u001b[0;36m<lambda>\u001b[0;34m(f, *a, **k)\u001b[0m\n\u001b[1;32m    185\u001b[0m     \u001b[0;31m# but it's overkill for just that one bit of state.\u001b[0m\u001b[0;34m\u001b[0m\u001b[0;34m\u001b[0m\u001b[0;34m\u001b[0m\u001b[0m\n\u001b[1;32m    186\u001b[0m     \u001b[0;32mdef\u001b[0m \u001b[0mmagic_deco\u001b[0m\u001b[0;34m(\u001b[0m\u001b[0marg\u001b[0m\u001b[0;34m)\u001b[0m\u001b[0;34m:\u001b[0m\u001b[0;34m\u001b[0m\u001b[0;34m\u001b[0m\u001b[0m\n\u001b[0;32m--> 187\u001b[0;31m         \u001b[0mcall\u001b[0m \u001b[0;34m=\u001b[0m \u001b[0;32mlambda\u001b[0m \u001b[0mf\u001b[0m\u001b[0;34m,\u001b[0m \u001b[0;34m*\u001b[0m\u001b[0ma\u001b[0m\u001b[0;34m,\u001b[0m \u001b[0;34m**\u001b[0m\u001b[0mk\u001b[0m\u001b[0;34m:\u001b[0m \u001b[0mf\u001b[0m\u001b[0;34m(\u001b[0m\u001b[0;34m*\u001b[0m\u001b[0ma\u001b[0m\u001b[0;34m,\u001b[0m \u001b[0;34m**\u001b[0m\u001b[0mk\u001b[0m\u001b[0;34m)\u001b[0m\u001b[0;34m\u001b[0m\u001b[0;34m\u001b[0m\u001b[0m\n\u001b[0m\u001b[1;32m    188\u001b[0m \u001b[0;34m\u001b[0m\u001b[0m\n\u001b[1;32m    189\u001b[0m         \u001b[0;32mif\u001b[0m \u001b[0mcallable\u001b[0m\u001b[0;34m(\u001b[0m\u001b[0marg\u001b[0m\u001b[0;34m)\u001b[0m\u001b[0;34m:\u001b[0m\u001b[0;34m\u001b[0m\u001b[0;34m\u001b[0m\u001b[0m\n",
            "\u001b[0;32m/usr/local/lib/python3.7/dist-packages/IPython/core/magics/script.py\u001b[0m in \u001b[0;36mshebang\u001b[0;34m(self, line, cell)\u001b[0m\n\u001b[1;32m    243\u001b[0m             \u001b[0msys\u001b[0m\u001b[0;34m.\u001b[0m\u001b[0mstderr\u001b[0m\u001b[0;34m.\u001b[0m\u001b[0mflush\u001b[0m\u001b[0;34m(\u001b[0m\u001b[0;34m)\u001b[0m\u001b[0;34m\u001b[0m\u001b[0;34m\u001b[0m\u001b[0m\n\u001b[1;32m    244\u001b[0m         \u001b[0;32mif\u001b[0m \u001b[0margs\u001b[0m\u001b[0;34m.\u001b[0m\u001b[0mraise_error\u001b[0m \u001b[0;32mand\u001b[0m \u001b[0mp\u001b[0m\u001b[0;34m.\u001b[0m\u001b[0mreturncode\u001b[0m\u001b[0;34m!=\u001b[0m\u001b[0;36m0\u001b[0m\u001b[0;34m:\u001b[0m\u001b[0;34m\u001b[0m\u001b[0;34m\u001b[0m\u001b[0m\n\u001b[0;32m--> 245\u001b[0;31m             \u001b[0;32mraise\u001b[0m \u001b[0mCalledProcessError\u001b[0m\u001b[0;34m(\u001b[0m\u001b[0mp\u001b[0m\u001b[0;34m.\u001b[0m\u001b[0mreturncode\u001b[0m\u001b[0;34m,\u001b[0m \u001b[0mcell\u001b[0m\u001b[0;34m,\u001b[0m \u001b[0moutput\u001b[0m\u001b[0;34m=\u001b[0m\u001b[0mout\u001b[0m\u001b[0;34m,\u001b[0m \u001b[0mstderr\u001b[0m\u001b[0;34m=\u001b[0m\u001b[0merr\u001b[0m\u001b[0;34m)\u001b[0m\u001b[0;34m\u001b[0m\u001b[0;34m\u001b[0m\u001b[0m\n\u001b[0m\u001b[1;32m    246\u001b[0m \u001b[0;34m\u001b[0m\u001b[0m\n\u001b[1;32m    247\u001b[0m     \u001b[0;32mdef\u001b[0m \u001b[0m_run_script\u001b[0m\u001b[0;34m(\u001b[0m\u001b[0mself\u001b[0m\u001b[0;34m,\u001b[0m \u001b[0mp\u001b[0m\u001b[0;34m,\u001b[0m \u001b[0mcell\u001b[0m\u001b[0;34m,\u001b[0m \u001b[0mto_close\u001b[0m\u001b[0;34m)\u001b[0m\u001b[0;34m:\u001b[0m\u001b[0;34m\u001b[0m\u001b[0;34m\u001b[0m\u001b[0m\n",
            "\u001b[0;31mCalledProcessError\u001b[0m: Command 'b'confluent --help\\n'' returned non-zero exit status 127."
          ]
        }
      ],
      "source": [
        "%%bash\n",
        "confluent --help"
      ]
    }
  ],
  "metadata": {
    "language_info": {
      "name": "python"
    },
    "orig_nbformat": 4,
    "colab": {
      "provenance": [],
      "toc_visible": true
    },
    "kernelspec": {
      "name": "python3",
      "display_name": "Python 3"
    }
  },
  "nbformat": 4,
  "nbformat_minor": 0
}